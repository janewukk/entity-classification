{
 "cells": [
  {
   "cell_type": "code",
   "execution_count": 25,
   "metadata": {
    "collapsed": true
   },
   "outputs": [],
   "source": [
    "import requests\n",
    "import json\n",
    "import csv"
   ]
  },
  {
   "cell_type": "code",
   "execution_count": 30,
   "metadata": {
    "scrolled": true
   },
   "outputs": [],
   "source": [
    "i = 1\n",
    "with open(\"hate_speech.csv\", 'w') as f:  # Just use 'w' mode in 3.x\n",
    "    while i <= 6:\n",
    "        r1 = requests.get(\"https://api.hatebase.org/v3-0/ef3a4ee03a70cf2c4e4d3ba1c20ccdb1/vocabulary/json/language=eng|page=\" + str(i))\n",
    "        temp = json.loads(r1.text)\n",
    "        list_t = temp[\"data\"][\"datapoint\"]    \n",
    "        for dict_t in list_t:\n",
    "            w = csv.DictWriter(f, dict_t.keys())\n",
    "            w.writerow(dict_t)\n",
    "        i += 1\n"
   ]
  },
  {
   "cell_type": "code",
   "execution_count": null,
   "metadata": {
    "collapsed": true
   },
   "outputs": [],
   "source": []
  }
 ],
 "metadata": {
  "kernelspec": {
   "display_name": "Python 3",
   "language": "python",
   "name": "python3"
  },
  "language_info": {
   "codemirror_mode": {
    "name": "ipython",
    "version": 3
   },
   "file_extension": ".py",
   "mimetype": "text/x-python",
   "name": "python",
   "nbconvert_exporter": "python",
   "pygments_lexer": "ipython3",
   "version": "3.6.1"
  }
 },
 "nbformat": 4,
 "nbformat_minor": 2
}
